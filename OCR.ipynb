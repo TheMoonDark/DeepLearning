{
 "cells": [
  {
   "cell_type": "code",
   "execution_count": 1,
   "metadata": {},
   "outputs": [],
   "source": [
    "from tkinter import *"
   ]
  },
  {
   "cell_type": "code",
   "execution_count": 83,
   "metadata": {},
   "outputs": [],
   "source": [
    "root = Tk()\n",
    "root.title('python')\n",
    "root.geometry('1000x600')\n",
    "\n",
    "fm1 = Frame(root)\n",
    "lbtitle = Label(fm1, text=\"银行卡号码识别系统\", font=('楷体', 30))\n",
    "lbtitle.pack()\n",
    "fm1.pack(side=TOP, expand = YES, fill = 'x', pady=30)\n",
    "\n",
    "fm2 = Frame(root)\n",
    "fm2_left = Frame(fm2, bg='#fff000')\n",
    "fm2_right = Frame(fm2)\n",
    "fm2_right_top = Frame(fm2_right)\n",
    "fm2_right_bottom = Frame(fm2_right)\n",
    "\n",
    "lbImage = Label(fm2_left, bg='black', width=80, height=20)\n",
    "btChooseFile = Button(fm2_right_top,  width=16, text='选择图片', relief='groove', font=('楷体', 15))\n",
    "btRun = Button(fm2_right_bottom,  width=16, text='开始识别', relief='groove', font=('楷体', 15))\n",
    "btChooseFile.pack(side = LEFT)\n",
    "btRun.pack(side = LEFT)\n",
    "lbImage.pack()\n",
    "fm2_right_top.pack(side=TOP, fill='x', pady=25)\n",
    "fm2_right_bottom.pack(side=TOP, fill='x',pady=25)\n",
    "fm2_right.pack(side=RIGHT, padx=70)\n",
    "fm2_left.pack(side=LEFT, padx=70)\n",
    "fm2.pack(side=TOP, expand=YES, fill='x')\n",
    "\n",
    "\n",
    "fm3 = Frame(root)\n",
    "lbImage = Label(fm3, text='5465413246574234567657', width=150, height=10, font=('楷体', 50))\n",
    "lbImage.pack()\n",
    "fm3.pack(side=TOP, pady = 40, padx = 80)\n",
    "\n",
    "root.mainloop()"
   ]
  }
 ],
 "metadata": {
  "kernelspec": {
   "display_name": "Python 3",
   "language": "python",
   "name": "python3"
  },
  "language_info": {
   "codemirror_mode": {
    "name": "ipython",
    "version": 3
   },
   "file_extension": ".py",
   "mimetype": "text/x-python",
   "name": "python",
   "nbconvert_exporter": "python",
   "pygments_lexer": "ipython3",
   "version": "3.6.8"
  }
 },
 "nbformat": 4,
 "nbformat_minor": 2
}
